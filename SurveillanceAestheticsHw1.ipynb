{
  "nbformat": 4,
  "nbformat_minor": 0,
  "metadata": {
    "colab": {
      "provenance": []
    },
    "kernelspec": {
      "name": "python3",
      "display_name": "Python 3"
    },
    "language_info": {
      "name": "python"
    }
  },
  "cells": [
    {
      "cell_type": "code",
      "execution_count": 1,
      "metadata": {
        "id": "fNp9xTfp01-S"
      },
      "outputs": [],
      "source": [
        "import pandas as pd"
      ]
    },
    {
      "cell_type": "code",
      "source": [
        "profiles = {\n",
        "    'truth' : {\n",
        "        'age_range' : [23, 24],\n",
        "        'interested_in' : ['many', 'things'],\n",
        "        'categories' : ['student', 'technology']\n",
        "    },\n",
        "    'google' : {\n",
        "        'age_range' : [18, 24],\n",
        "        'relationship' : 'single',\n",
        "        'income' : 'moderately high',\n",
        "        'education' : 'Bachelors',\n",
        "        'industry' : 'technology',\n",
        "        'employer' : 'large'\n",
        "    },\n",
        "\n",
        "\n",
        "}"
      ],
      "metadata": {
        "id": "bo8rKTVI2FVo"
      },
      "execution_count": null,
      "outputs": []
    },
    {
      "cell_type": "code",
      "source": [
        "linkedin = pd.read_csv(\"LinkedIn_Ad_Targeting.csv\")"
      ],
      "metadata": {
        "id": "gpsI4xDJ1UNF"
      },
      "execution_count": 3,
      "outputs": []
    },
    {
      "cell_type": "code",
      "source": [
        "linkedin.columns"
      ],
      "metadata": {
        "colab": {
          "base_uri": "https://localhost:8080/"
        },
        "id": "kUkzCkQu1X2I",
        "outputId": "a73083c2-4e8c-4ed3-d31a-4e2a4f76a998"
      },
      "execution_count": 8,
      "outputs": [
        {
          "output_type": "execute_result",
          "data": {
            "text/plain": [
              "Index(['Member Age', 'Buyer Groups', 'Company Names', 'Company Names.1',\n",
              "       'Company Follower of', 'Company Names.2', 'Company Category',\n",
              "       'Company Size', 'Degrees', 'degreeClass', 'Member Schools',\n",
              "       'Company Growth Rate', 'Fields of Study', 'Company Connections',\n",
              "       'Function By Size', 'Job Functions', 'Member Gender', 'Graduation Year',\n",
              "       'Member Groups', 'Company Industries', 'Member Interests',\n",
              "       'Interface Locales', 'interfaceLocale', 'Member Traits',\n",
              "       'Profile Locations', 'Company Revenue', 'Job Seniorities',\n",
              "       'Member Skills', 'Job Titles', 'Job Titles.1', 'Job Titles.2',\n",
              "       'Years of Experience'],\n",
              "      dtype='object')"
            ]
          },
          "metadata": {},
          "execution_count": 8
        }
      ]
    },
    {
      "cell_type": "code",
      "source": [
        "linkedin[\"Member Age\"][0]"
      ],
      "metadata": {
        "colab": {
          "base_uri": "https://localhost:8080/",
          "height": 35
        },
        "id": "W5aPEVQn1bMq",
        "outputId": "37e90f02-89db-45f1-c603-245fef70438d"
      },
      "execution_count": 14,
      "outputs": [
        {
          "output_type": "execute_result",
          "data": {
            "text/plain": [
              "'35 to 54'"
            ],
            "application/vnd.google.colaboratory.intrinsic+json": {
              "type": "string"
            }
          },
          "metadata": {},
          "execution_count": 14
        }
      ]
    },
    {
      "cell_type": "code",
      "source": [
        "linkedin[\"Buyer Groups\"][0]"
      ],
      "metadata": {
        "colab": {
          "base_uri": "https://localhost:8080/",
          "height": 53
        },
        "id": "Rbetf83g1nLv",
        "outputId": "a97121f4-1d55-4c52-bf13-e897f4586b99"
      },
      "execution_count": 13,
      "outputs": [
        {
          "output_type": "execute_result",
          "data": {
            "text/plain": [
              "'Data Science Software; Machine Learning Software & Platforms; Data Warehouse Software'"
            ],
            "application/vnd.google.colaboratory.intrinsic+json": {
              "type": "string"
            }
          },
          "metadata": {},
          "execution_count": 13
        }
      ]
    },
    {
      "cell_type": "code",
      "source": [
        "linkedin[\"Job Functions\"][0]"
      ],
      "metadata": {
        "colab": {
          "base_uri": "https://localhost:8080/",
          "height": 35
        },
        "id": "dh4Vp4jF1xg3",
        "outputId": "5b3fc6e0-c014-45da-a435-ae01730e0abf"
      },
      "execution_count": 16,
      "outputs": [
        {
          "output_type": "execute_result",
          "data": {
            "text/plain": [
              "'Business Development'"
            ],
            "application/vnd.google.colaboratory.intrinsic+json": {
              "type": "string"
            }
          },
          "metadata": {},
          "execution_count": 16
        }
      ]
    },
    {
      "cell_type": "code",
      "source": [],
      "metadata": {
        "id": "FfCkCW-82Aap"
      },
      "execution_count": null,
      "outputs": []
    }
  ]
}